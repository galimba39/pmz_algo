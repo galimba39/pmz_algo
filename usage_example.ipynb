{
 "cells": [
  {
   "cell_type": "code",
   "execution_count": 96,
   "metadata": {},
   "outputs": [],
   "source": [
    "from datetime import datetime\n",
    "import requests\n",
    "from algosdk import future, encoding, logic\n",
    "from contracts.crowdfounding import utils\n",
    "from algosdk.v2client import algod\n",
    "\n"
   ]
  },
  {
   "cell_type": "code",
   "execution_count": 15,
   "metadata": {},
   "outputs": [
    {
     "name": "stdout",
     "output_type": "stream",
     "text": [
      "goal clerk send -a 100000000 -f 6B2KSSG2ZWW3X3NNONJ4NNFWJXBHGI3K7VUZHISFKUVP2UEXF22QJDF7WY -t PGXTXDHNTT43J5OLQT2ZDPU3ZVRMA4FO7SILPYOCZCNS2OQISKHIUGJ3SM\n"
     ]
    }
   ],
   "source": [
    "# Test data\n",
    "\n",
    "private_key = 'ixz3gYNh1EsJszFCgUgrSQlT//fuGZK7hAzdNftlVRZ5rzuM7Zz5tPXLhPWRvpvNYsBwrvyQt+HCyJstOgiSjg=='\n",
    "address = 'PGXTXDHNTT43J5OLQT2ZDPU3ZVRMA4FO7SILPYOCZCNS2OQISKHIUGJ3SM'\n",
    "\n",
    "\n",
    "# address need to be founded from the sandbox\n",
    "money_address = \"6B2KSSG2ZWW3X3NNONJ4NNFWJXBHGI3K7VUZHISFKUVP2UEXF22QJDF7WY\"\n",
    "amount = 100000000\n",
    "print(\"goal clerk send -a \" + str(amount) + \" -f \" + money_address + \" -t \" + address)\n"
   ]
  },
  {
   "cell_type": "code",
   "execution_count": 84,
   "metadata": {},
   "outputs": [
    {
     "name": "stdout",
     "output_type": "stream",
     "text": [
      "{'address': 'PGXTXDHNTT43J5OLQT2ZDPU3ZVRMA4FO7SILPYOCZCNS2OQISKHIUGJ3SM', 'amount': 100000691, 'amount-without-pending-rewards': 99999800, 'apps-local-state': [], 'apps-total-schema': {'num-byte-slice': 2, 'num-uint': 3}, 'assets': [], 'created-apps': [{'id': 60, 'params': {'approval-program': 'BiADAQADMRgjEkAAUTEZIxI2GgCABXNldHVwEhBAAAEAMwAQIhIzARCBBhIQRLEkshCBwIQ9siIksiMisiSABHVuaXSyJTIHFrImMgqyKTIKsioyCrIrMgqyLLMiQzEbgQQSNhoAFyMNEDIHNhoBFwwQMgc2GgIXDBA2GgEXNhoCFwwQRIAHZm91bmRlcjEAZ4AFc3RhcnQ2GgEXZ4ADZW5kNhoCF2eAC3Bvb2xfdGFyZ2V0NhoAF2eADWZvdW5kaW5nX25hbWU2GgNnIkM=', 'clear-state-program': 'BoEBQw==', 'creator': 'PGXTXDHNTT43J5OLQT2ZDPU3ZVRMA4FO7SILPYOCZCNS2OQISKHIUGJ3SM', 'global-state': [{'key': 'Zm91bmRlcg==', 'value': {'bytes': 'ea87jO2c+bT1y4T1kb6bzWLAcK78kLfhwsibLToIko4=', 'type': 1, 'uint': 0}}, {'key': 'ZW5k', 'value': {'bytes': '', 'type': 2, 'uint': 1653861600}}, {'key': 'c3RhcnQ=', 'value': {'bytes': '', 'type': 2, 'uint': 1653775200}}, {'key': 'Zm91bmRpbmdfbmFtZQ==', 'value': {'bytes': 'cHJvdmFfcG16', 'type': 1, 'uint': 0}}, {'key': 'cG9vbF90YXJnZXQ=', 'value': {'bytes': '', 'type': 2, 'uint': 1000000}}], 'global-state-schema': {'num-byte-slice': 2, 'num-uint': 3}, 'local-state-schema': {'num-byte-slice': 0, 'num-uint': 0}}}], 'created-assets': [], 'min-balance': 385500, 'pending-rewards': 891, 'reward-base': 290, 'rewards': 1691, 'round': 11612, 'status': 'Offline', 'total-apps-opted-in': 0, 'total-assets-opted-in': 0, 'total-created-apps': 1, 'total-created-assets': 0}\n"
     ]
    }
   ],
   "source": [
    "query = {'address': address}\n",
    "response = requests.get('http://localhost:8501/address_info', params=query)\n",
    "print(response.json())\n"
   ]
  },
  {
   "cell_type": "code",
   "execution_count": 37,
   "metadata": {},
   "outputs": [],
   "source": [
    "# This cell is for testing purpose only\n",
    "\n",
    "algod_address = \"http://localhost:4001\"\n",
    "algod_token = \"aaaaaaaaaaaaaaaaaaaaaaaaaaaaaaaaaaaaaaaaaaaaaaaaaaaaaaaaaaaaaaaa\"\n",
    "algod_client = algod.AlgodClient(algod_token, algod_address)"
   ]
  },
  {
   "cell_type": "markdown",
   "metadata": {},
   "source": [
    "### Creating the contract\n",
    "\n",
    "API EXAMPLE\n",
    "\n",
    " > http://localhost:8501/create_contract?sender=SUBSTITUTE_WITH_PUBLIC_KEY_&pool_name=prova&target=10000&startTime=1653775200&endTime=1653948000\n"
   ]
  },
  {
   "cell_type": "code",
   "execution_count": 33,
   "metadata": {},
   "outputs": [],
   "source": [
    "startTime = int(datetime.timestamp(datetime(2022,5,29)))\n",
    "endTime = int(datetime.timestamp(datetime(2022,5,30)))\n",
    "pool_name = \"prova_pmz\"\n",
    "target = 1000000 # microAlgo\n",
    "\n",
    "\n",
    "query = {\"sender\": address, \"pool_name\":pool_name,\"target\":target, \"startTime\": startTime, \"endTime\":endTime}\n",
    "txt_to_sign_encoded = requests.get('http://localhost:8501/create_contract', params=query).json()"
   ]
  },
  {
   "cell_type": "code",
   "execution_count": 43,
   "metadata": {},
   "outputs": [
    {
     "name": "stdout",
     "output_type": "stream",
     "text": [
      "Transaction information: {\n",
      "    \"application-index\": 60,\n",
      "    \"confirmed-round\": 11250,\n",
      "    \"global-state-delta\": [\n",
      "        {\n",
      "            \"key\": \"Zm91bmRpbmdfbmFtZQ==\",\n",
      "            \"value\": {\n",
      "                \"action\": 1,\n",
      "                \"bytes\": \"cHJvdmFfcG16\"\n",
      "            }\n",
      "        },\n",
      "        {\n",
      "            \"key\": \"cG9vbF90YXJnZXQ=\",\n",
      "            \"value\": {\n",
      "                \"action\": 2,\n",
      "                \"uint\": 1000000\n",
      "            }\n",
      "        },\n",
      "        {\n",
      "            \"key\": \"c3RhcnQ=\",\n",
      "            \"value\": {\n",
      "                \"action\": 2,\n",
      "                \"uint\": 1653775200\n",
      "            }\n",
      "        },\n",
      "        {\n",
      "            \"key\": \"ZW5k\",\n",
      "            \"value\": {\n",
      "                \"action\": 2,\n",
      "                \"uint\": 1653861600\n",
      "            }\n",
      "        },\n",
      "        {\n",
      "            \"key\": \"Zm91bmRlcg==\",\n",
      "            \"value\": {\n",
      "                \"action\": 1,\n",
      "                \"bytes\": \"ea87jO2c+bT1y4T1kb6bzWLAcK78kLfhwsibLToIko4=\"\n",
      "            }\n",
      "        }\n",
      "    ],\n",
      "    \"pool-error\": \"\",\n",
      "    \"sender-rewards\": 800,\n",
      "    \"txn\": {\n",
      "        \"sig\": \"VE8UuRL7k3nf00exbNj7OYLObdL8IzD92n5lTAXFWDxLu6LxFGl2u+gL6Tvso7IZeg4t3baZNrOM4bo1ivnuBQ==\",\n",
      "        \"txn\": {\n",
      "            \"apaa\": [\n",
      "                \"AAAAAAAPQkA=\",\n",
      "                \"AAAAAGKSm2A=\",\n",
      "                \"AAAAAGKT7OA=\",\n",
      "                \"cHJvdmFfcG16\"\n",
      "            ],\n",
      "            \"apap\": \"BiADAQADMRgjEkAAUTEZIxI2GgCABXNldHVwEhBAAAEAMwAQIhIzARCBBhIQRLEkshCBwIQ9siIksiMisiSABHVuaXSyJTIHFrImMgqyKTIKsioyCrIrMgqyLLMiQzEbgQQSNhoAFyMNEDIHNhoBFwwQMgc2GgIXDBA2GgEXNhoCFwwQRIAHZm91bmRlcjEAZ4AFc3RhcnQ2GgEXZ4ADZW5kNhoCF2eAC3Bvb2xfdGFyZ2V0NhoAF2eADWZvdW5kaW5nX25hbWU2GgNnIkM=\",\n",
      "            \"apgs\": {\n",
      "                \"nbs\": 2,\n",
      "                \"nui\": 3\n",
      "            },\n",
      "            \"apsu\": \"BoEBQw==\",\n",
      "            \"fee\": 1000,\n",
      "            \"fv\": 11102,\n",
      "            \"gen\": \"sandnet-v1\",\n",
      "            \"gh\": \"AKL3TWSUe2YYSAm7A0cZJUeeVQnw6c1FhKGXNrCMPTc=\",\n",
      "            \"lv\": 12102,\n",
      "            \"snd\": \"PGXTXDHNTT43J5OLQT2ZDPU3ZVRMA4FO7SILPYOCZCNS2OQISKHIUGJ3SM\",\n",
      "            \"type\": \"appl\"\n",
      "        }\n",
      "    }\n",
      "}\n",
      "'note'\n"
     ]
    }
   ],
   "source": [
    "txt_to_sign = encoding.future_msgpack_decode(txt_to_sign_encoded)\n",
    "\n",
    "signedTxn = txt_to_sign.sign(private_key)\n",
    "\n",
    "txid = algod_client.send_transaction(signedTxn)\n",
    "return_conf = utils.inspect_transaction(txid,algod_client)"
   ]
  },
  {
   "cell_type": "markdown",
   "metadata": {},
   "source": [
    "### SETUP THE CONTRACT"
   ]
  },
  {
   "cell_type": "code",
   "execution_count": 95,
   "metadata": {},
   "outputs": [],
   "source": [
    "import json\n",
    "import pprint\n",
    "\n",
    "query = {'address': address}\n",
    "response = requests.get('http://localhost:8501/address_info', params=query)\n",
    "\n",
    "result_dict = response.json()\n",
    "lista_app_create_account = result_dict['created-apps']\n",
    "\n",
    "id = logic.get_application_address(lista_app_create_account[0]['id']) # questo è l'id della nostra applicazione appena creata "
   ]
  },
  {
   "cell_type": "code",
   "execution_count": 90,
   "metadata": {},
   "outputs": [],
   "source": [
    "from algosdk.constants import MIN_TXN_FEE\n",
    "\n",
    "\n",
    "parameters = algod_client.suggested_params()\n",
    "parameters.flat_fee = True\n",
    "parameters.fee = 4 * MIN_TXN_FEE\n",
    "\n",
    "\n",
    "\n",
    "fundAppTxn = future.transaction.PaymentTxn(\n",
    "        sender = address,\n",
    "        receiver = logic.get_application_address(id),\n",
    "        amt = 500000,\n",
    "        sp = algod_client.suggested_params(),\n",
    "    )\n",
    "\n",
    "\n",
    "setupTxn = future.transaction.ApplicationNoOpTxn(\n",
    "        sender = address,\n",
    "        index=id,\n",
    "        app_args=[b\"setup\"],\n",
    "        sp=algod_client.suggested_params()\n",
    ")\n",
    "\n",
    "future.transaction.assign_group_id([fundAppTxn, setupTxn])\n",
    "\n",
    "\n",
    "signedFundAppTxn = fundAppTxn.sign(private_key)\n",
    "signedSetupTxn = setupTxn.sign(private_key)\n",
    "\n",
    "indedd = algod_client.send_transactions([signedFundAppTxn, signedSetupTxn])\n",
    "utils.inspect_transaction(indedd, algod_client)"
   ]
  }
 ],
 "metadata": {
  "interpreter": {
   "hash": "9109591b5357330c8f7ce7a508b9767d847821d9e9d8750da4c40b18b235b11a"
  },
  "kernelspec": {
   "display_name": "Python 3.9.12 ('algo_auction')",
   "language": "python",
   "name": "python3"
  },
  "language_info": {
   "codemirror_mode": {
    "name": "ipython",
    "version": 3
   },
   "file_extension": ".py",
   "mimetype": "text/x-python",
   "name": "python",
   "nbconvert_exporter": "python",
   "pygments_lexer": "ipython3",
   "version": "3.9.12"
  },
  "orig_nbformat": 4
 },
 "nbformat": 4,
 "nbformat_minor": 2
}
