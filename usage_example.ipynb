{
 "cells": [
  {
   "cell_type": "code",
   "execution_count": null,
   "metadata": {},
   "outputs": [],
   "source": [
    "from datetime import datetime\n",
    "import requests\n",
    "from algosdk import future, encoding, logic\n",
    "from contracts.crowdfounding import utils\n",
    "from algosdk.v2client import algod\n"
   ]
  },
  {
   "cell_type": "code",
   "execution_count": null,
   "metadata": {},
   "outputs": [],
   "source": [
    "# Test data\n",
    "\n",
    "private_key = 'ixz3gYNh1EsJszFCgUgrSQlT//fuGZK7hAzdNftlVRZ5rzuM7Zz5tPXLhPWRvpvNYsBwrvyQt+HCyJstOgiSjg=='\n",
    "address = 'PGXTXDHNTT43J5OLQT2ZDPU3ZVRMA4FO7SILPYOCZCNS2OQISKHIUGJ3SM'\n",
    "\n",
    "\n",
    "# address need to be founded from the sandbox\n",
    "money_address = \"6B2KSSG2ZWW3X3NNONJ4NNFWJXBHGI3K7VUZHISFKUVP2UEXF22QJDF7WY\"\n",
    "amount = 100000000\n",
    "print(\"goal clerk send -a \" + str(amount) + \" -f \" + money_address + \" -t \" + address)\n"
   ]
  },
  {
   "cell_type": "code",
   "execution_count": null,
   "metadata": {},
   "outputs": [],
   "source": [
    "query = {'address': address}\n",
    "response = requests.get('http://localhost:8501/address_info', params=query)\n",
    "print(response.json())\n"
   ]
  },
  {
   "cell_type": "code",
   "execution_count": null,
   "metadata": {},
   "outputs": [],
   "source": [
    "# This cell is for testing purpose only\n",
    "\n",
    "algod_address = \"http://localhost:4001\"\n",
    "algod_token = \"aaaaaaaaaaaaaaaaaaaaaaaaaaaaaaaaaaaaaaaaaaaaaaaaaaaaaaaaaaaaaaaa\"\n",
    "algod_client = algod.AlgodClient(algod_token, algod_address)"
   ]
  },
  {
   "cell_type": "markdown",
   "metadata": {},
   "source": [
    "### Creating the contract\n",
    "\n",
    "API EXAMPLE\n",
    "\n",
    " > http://localhost:8501/create_contract?sender=SUBSTITUTE_WITH_PUBLIC_KEY_&pool_name=prova&target=10000&startTime=1653775200&endTime=1653948000\n"
   ]
  },
  {
   "cell_type": "code",
   "execution_count": null,
   "metadata": {},
   "outputs": [],
   "source": [
    "startTime = int(datetime.timestamp(datetime(2022,5,29)))\n",
    "endTime = int(datetime.timestamp(datetime(2022,5,30)))\n",
    "pool_name = \"prova_pmz\"\n",
    "target = 12300000 # microAlgo\n",
    "\n",
    "\n",
    "query = {\"sender\": address, \"pool_name\":pool_name,\"target\":target, \"startTime\": startTime, \"endTime\":endTime}\n",
    "txt_to_sign_encoded = requests.get('http://localhost:8501/create_contract', params=query).json()"
   ]
  },
  {
   "cell_type": "code",
   "execution_count": null,
   "metadata": {},
   "outputs": [],
   "source": [
    "txt_to_sign = encoding.future_msgpack_decode(txt_to_sign_encoded)\n",
    "\n",
    "signedTxn = txt_to_sign.sign(private_key)\n",
    "\n",
    "txid = algod_client.send_transaction(signedTxn)\n",
    "return_conf = utils.inspect_transaction(txid,algod_client)"
   ]
  },
  {
   "cell_type": "markdown",
   "metadata": {},
   "source": [
    "### SETUP THE CONTRACT"
   ]
  },
  {
   "cell_type": "code",
   "execution_count": null,
   "metadata": {},
   "outputs": [],
   "source": [
    "import json\n",
    "import pprint\n",
    "\n",
    "query = {'address': address}\n",
    "response = requests.get('http://localhost:8501/address_info', params=query)\n",
    "\n",
    "result_dict = response.json()\n",
    "lista_app_create_account = result_dict['created-apps']\n",
    "\n",
    "id = lista_app_create_account[-1]['id'] # questo è l'id della nostra applicazione appena creata "
   ]
  },
  {
   "cell_type": "code",
   "execution_count": null,
   "metadata": {},
   "outputs": [],
   "source": [
    "from algosdk.constants import MIN_TXN_FEE\n",
    "\n",
    "\n",
    "parameters = algod_client.suggested_params()\n",
    "parameters.flat_fee = True\n",
    "parameters.fee = 4 * MIN_TXN_FEE\n",
    "\n",
    "\n",
    "\n",
    "fundAppTxn = future.transaction.PaymentTxn(\n",
    "        sender = address,\n",
    "        receiver = logic.get_application_address(id),\n",
    "        amt = 500000,\n",
    "        sp = algod_client.suggested_params(),\n",
    "    )\n",
    "\n",
    "\n",
    "setupTxn = future.transaction.ApplicationNoOpTxn(\n",
    "        sender = address,\n",
    "        index=id,\n",
    "        app_args=[b\"setup\"],\n",
    "        sp=algod_client.suggested_params()\n",
    ")\n",
    "\n",
    "future.transaction.assign_group_id([fundAppTxn, setupTxn])\n",
    "\n",
    "\n",
    "signedFundAppTxn = fundAppTxn.sign(private_key)\n",
    "signedSetupTxn = setupTxn.sign(private_key)\n",
    "\n",
    "indedd = algod_client.send_transactions([signedFundAppTxn, signedSetupTxn])\n",
    "utils.inspect_transaction(indedd, algod_client)"
   ]
  },
  {
   "cell_type": "code",
   "execution_count": null,
   "metadata": {},
   "outputs": [],
   "source": [
    "query = {'address': logic.get_application_address(id)}\n",
    "response = requests.get('http://localhost:8501/address_info', params=query)\n",
    "print(response.json())"
   ]
  }
 ],
 "metadata": {
  "interpreter": {
   "hash": "9109591b5357330c8f7ce7a508b9767d847821d9e9d8750da4c40b18b235b11a"
  },
  "kernelspec": {
   "display_name": "Python 3.9.12 ('algo_auction')",
   "language": "python",
   "name": "python3"
  },
  "language_info": {
   "codemirror_mode": {
    "name": "ipython",
    "version": 3
   },
   "file_extension": ".py",
   "mimetype": "text/x-python",
   "name": "python",
   "nbconvert_exporter": "python",
   "pygments_lexer": "ipython3",
   "version": "3.9.12"
  },
  "orig_nbformat": 4
 },
 "nbformat": 4,
 "nbformat_minor": 2
}
