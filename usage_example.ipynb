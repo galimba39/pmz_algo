{
 "cells": [
  {
   "cell_type": "code",
   "execution_count": 1,
   "metadata": {},
   "outputs": [],
   "source": [
    "from datetime import datetime, timedelta\n",
    "import requests\n",
    "from algosdk import future, encoding, logic\n",
    "from contracts.crowdfounding import utils\n",
    "from algosdk.v2client import algod\n",
    "from contracts.external_utils.auction_demo.testing import resources\n",
    "\n",
    "import pprint\n",
    "\n",
    "from algosdk.constants import MIN_TXN_FEE\n",
    "\n"
   ]
  },
  {
   "cell_type": "code",
   "execution_count": 2,
   "metadata": {},
   "outputs": [
    {
     "name": "stdout",
     "output_type": "stream",
     "text": [
      "Test account JGXHWFGOZJ33EORBGC2S6XEDKYI4SQSPAXYPKD4MLKXAIZKENZPZ6MAIAQ with: 100000000 microAlgos\n"
     ]
    }
   ],
   "source": [
    "# Creating a fake account to interact with the APIs\n",
    "algod_address = \"http://localhost:4001\"\n",
    "algod_token = \"aaaaaaaaaaaaaaaaaaaaaaaaaaaaaaaaaaaaaaaaaaaaaaaaaaaaaaaaaaaaaaaa\"\n",
    "algod_client = algod.AlgodClient(algod_token, algod_address)\n",
    "test_account = resources.getTemporaryAccount(algod_client)\n",
    "\n",
    "print(\"Test account \"+ test_account.getAddress() +  \" with: \" + str(algod_client.account_info(test_account.getAddress())[\"amount\"]) + \" microAlgos\")"
   ]
  },
  {
   "cell_type": "markdown",
   "metadata": {},
   "source": [
    "### Account information"
   ]
  },
  {
   "cell_type": "code",
   "execution_count": 3,
   "metadata": {},
   "outputs": [
    {
     "name": "stdout",
     "output_type": "stream",
     "text": [
      "{'address': 'JGXHWFGOZJ33EORBGC2S6XEDKYI4SQSPAXYPKD4MLKXAIZKENZPZ6MAIAQ',\n",
      " 'amount': 100000000,\n",
      " 'amount-without-pending-rewards': 100000000,\n",
      " 'apps-local-state': [],\n",
      " 'apps-total-schema': {'num-byte-slice': 0, 'num-uint': 0},\n",
      " 'assets': [],\n",
      " 'created-apps': [],\n",
      " 'created-assets': [],\n",
      " 'min-balance': 100000,\n",
      " 'pending-rewards': 0,\n",
      " 'reward-base': 15,\n",
      " 'rewards': 0,\n",
      " 'round': 614,\n",
      " 'status': 'Offline',\n",
      " 'total-apps-opted-in': 0,\n",
      " 'total-assets-opted-in': 0,\n",
      " 'total-created-apps': 0,\n",
      " 'total-created-assets': 0}\n"
     ]
    }
   ],
   "source": [
    "query = {'address': test_account.getAddress()}\n",
    "response = requests.get('http://localhost:8501/address_info', params=query)\n",
    "pprint.pprint(response.json())\n"
   ]
  },
  {
   "cell_type": "markdown",
   "metadata": {},
   "source": [
    "### Creating the contract\n",
    "\n",
    "API EXAMPLE\n",
    "\n",
    " > http://localhost:8501/create_contract?sender=SUBSTITUTE_WITH_PUBLIC_KEY_&pool_name=prova&target=10000&startTime=1653775200&endTime=1653948000\n"
   ]
  },
  {
   "cell_type": "code",
   "execution_count": 4,
   "metadata": {},
   "outputs": [],
   "source": [
    "startTime = int(datetime.timestamp(datetime.now() + timedelta(hours=1))) # pool starting from one hour from now\n",
    "endTime = int(datetime.timestamp(datetime.now() + timedelta(hours=3))) # lasting two hours\n",
    "pool_name = \"usage_example_pool\"\n",
    "target = 12300000 # microAlgo\n",
    "\n",
    "# We can notice that backend prepares transaction only and expects user to sign it\n",
    "\n",
    "query = {\"sender\": test_account.getAddress(), \"pool_name\":pool_name,\"target\":target, \"startTime\": startTime, \"endTime\":endTime}\n",
    "txt_to_sign_encoded = requests.get('http://localhost:8501/create_contract', params=query).json()"
   ]
  },
  {
   "cell_type": "code",
   "execution_count": 5,
   "metadata": {},
   "outputs": [
    {
     "name": "stdout",
     "output_type": "stream",
     "text": [
      "{'application_id': 125}\n"
     ]
    }
   ],
   "source": [
    "# Sign transaction\n",
    "\n",
    "txt_to_sign = encoding.future_msgpack_decode(txt_to_sign_encoded)\n",
    "\n",
    "signedTxn = txt_to_sign.sign(test_account.getPrivateKey())\n",
    "\n",
    "query = {\"contract_txn\": encoding.msgpack_encode(signedTxn)}\n",
    "app_id = requests.get('http://localhost:8501/sign_contract', params=query).json()\n",
    "print(app_id)"
   ]
  },
  {
   "cell_type": "markdown",
   "metadata": {},
   "source": [
    "In a webapp scenario the user can interact with the smart contract using either another API endpoint preparing the group transaction or signing it as the code in the cell below.\n",
    "\n",
    "### Setup the contract"
   ]
  },
  {
   "cell_type": "code",
   "execution_count": 6,
   "metadata": {},
   "outputs": [
    {
     "name": "stdout",
     "output_type": "stream",
     "text": [
      "Transaction information: {\n",
      "    \"confirmed-round\": 620,\n",
      "    \"pool-error\": \"\",\n",
      "    \"txn\": {\n",
      "        \"sig\": \"vET0ULfLgzt+XKCDjj361uhbEkvSMF9a9SSQxE/TlaoE1AyB9L8UJNxubidK3o1uQXyYZvYhh8NJuEqZ+0+cDQ==\",\n",
      "        \"txn\": {\n",
      "            \"amt\": 200000,\n",
      "            \"fee\": 1000,\n",
      "            \"fv\": 618,\n",
      "            \"gen\": \"sandnet-v1\",\n",
      "            \"gh\": \"AKL3TWSUe2YYSAm7A0cZJUeeVQnw6c1FhKGXNrCMPTc=\",\n",
      "            \"grp\": \"SVsmFWAiK0Dj1Owr9luLexdQ2l2E8IS1cCF5s8nY0eQ=\",\n",
      "            \"lv\": 1618,\n",
      "            \"rcv\": \"JOUMWHYDHUY54RA5GHVLZAQCTRDSJUNZJ4EPRNNYIWOFDTWQSZB4OHNR2Y\",\n",
      "            \"snd\": \"JGXHWFGOZJ33EORBGC2S6XEDKYI4SQSPAXYPKD4MLKXAIZKENZPZ6MAIAQ\",\n",
      "            \"type\": \"pay\"\n",
      "        }\n",
      "    }\n",
      "}\n",
      "'note'\n"
     ]
    }
   ],
   "source": [
    "# Setup group transaction\n",
    "\n",
    "params = algod_client.suggested_params()\n",
    "params.fee = 2 * MIN_TXN_FEE\n",
    "params.flat_fee = True\n",
    "\n",
    "fundAppTxn = future.transaction.PaymentTxn(\n",
    "            sender = test_account.getAddress(),\n",
    "            receiver = logic.get_application_address(app_id[\"application_id\"]),\n",
    "            amt = 200000, \n",
    "            sp = algod_client.suggested_params(),\n",
    "        )\n",
    "\n",
    "setupTxn = future.transaction.ApplicationNoOpTxn(\n",
    "            sender = test_account.getAddress(),\n",
    "            index=app_id[\"application_id\"],\n",
    "            app_args=[b\"setup\"],\n",
    "            sp= params\n",
    "    )\n",
    "\n",
    "future.transaction.assign_group_id([fundAppTxn, setupTxn])\n",
    "\n",
    "# Sign the transaction\n",
    "\n",
    "signedFundAppTxn = fundAppTxn.sign(test_account.getPrivateKey())\n",
    "signedSetupTxn = setupTxn.sign(test_account.getPrivateKey())\n",
    "\n",
    "# Send the transaction\n",
    "\n",
    "setup_group_txn = algod_client.send_transactions([signedFundAppTxn, signedSetupTxn])\n",
    "utils.inspect_transaction(setup_group_txn,algod_client)"
   ]
  },
  {
   "cell_type": "markdown",
   "metadata": {},
   "source": [
    "### Retrieving contracts information"
   ]
  },
  {
   "cell_type": "code",
   "execution_count": 7,
   "metadata": {},
   "outputs": [
    {
     "name": "stdout",
     "output_type": "stream",
     "text": [
      "[{'app_id': 79,\n",
      "  'create_tx_id': 'NRLXVBB54K7CV5NSHSWJKOSL6BHMQVKOTU2YXYZSBICPRRB5R3OQ            ',\n",
      "  'endtime': 1655209591,\n",
      "  'founder': 'TLKP3ILDGCAPB4WB5A4CMF5HWO74HK6N4YT4VA37QTAJGZ5R5WC6ODGX3U      ',\n",
      "  'pool_name': 'pool_founder7444606                                             ',\n",
      "  'starttime': 1655123196,\n",
      "  'target': 10000000}]\n"
     ]
    }
   ],
   "source": [
    "query = {'address': test_account.getAddress()}\n",
    "response = requests.get('http://localhost:8501/get_all_contracts', params=query)\n",
    "\n",
    "all_crowdfund_pools = response.json()\n",
    "active_pools = [pool for pool in all_crowdfund_pools if pool[\"endtime\"]>datetime.timestamp(datetime.now())]\n",
    "active_pools_except_test_account =  [pool for pool in active_pools if pool[\"app_id\"]!=app_id[\"application_id\"]]\n",
    "\n",
    "end_pool_app_id = [pool[\"app_id\"] for pool in active_pools_except_test_account if pool[\"endtime\"]>datetime.timestamp(datetime.now())]\n",
    "\n",
    "# Here we can see that the only active pools are one of the setup action and the one we built now\n",
    "pprint.pprint(active_pools_except_test_account)"
   ]
  },
  {
   "cell_type": "markdown",
   "metadata": {},
   "source": [
    "Let's see other pool status"
   ]
  },
  {
   "cell_type": "code",
   "execution_count": 8,
   "metadata": {},
   "outputs": [
    {
     "name": "stdout",
     "output_type": "stream",
     "text": [
      "Pool pool_founder7444606 percentage completion 80.0 %\n"
     ]
    }
   ],
   "source": [
    "pool_data = algod_client.account_info(logic.get_application_address(end_pool_app_id[0]))\n",
    "token_id = pool_data['assets'][0]['asset-id']\n",
    "\n",
    "current_amount, total_amount = pool_data['assets'][0][\"amount\"], \\\n",
    "                 [created_asset[\"params\"][\"total\"] for created_asset in pool_data[ 'created-assets'] if created_asset[\"index\"]==token_id][0]\n",
    "                 \n",
    "print(\"Pool \" + active_pools_except_test_account[0][\"pool_name\"].strip() +\" percentage completion\", 100*(1- current_amount/total_amount), \"%\")  "
   ]
  },
  {
   "cell_type": "markdown",
   "metadata": {},
   "source": [
    "Other contract interactions can be found in the _scenario setup_"
   ]
  }
 ],
 "metadata": {
  "interpreter": {
   "hash": "9109591b5357330c8f7ce7a508b9767d847821d9e9d8750da4c40b18b235b11a"
  },
  "kernelspec": {
   "display_name": "Python 3.9.12 ('algo_auction')",
   "language": "python",
   "name": "python3"
  },
  "language_info": {
   "codemirror_mode": {
    "name": "ipython",
    "version": 3
   },
   "file_extension": ".py",
   "mimetype": "text/x-python",
   "name": "python",
   "nbconvert_exporter": "python",
   "pygments_lexer": "ipython3",
   "version": "3.9.12"
  },
  "orig_nbformat": 4
 },
 "nbformat": 4,
 "nbformat_minor": 2
}
